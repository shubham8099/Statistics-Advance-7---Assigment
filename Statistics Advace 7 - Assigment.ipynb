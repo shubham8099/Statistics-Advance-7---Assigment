{
 "cells": [
  {
   "cell_type": "code",
   "execution_count": 1,
   "id": "43d67414-ffd1-4037-ba53-598c8239f912",
   "metadata": {},
   "outputs": [],
   "source": [
    "# jai maa Saraswati "
   ]
  },
  {
   "cell_type": "markdown",
   "id": "3426c3ad-6989-4b7d-b1ed-ddf364efe4d1",
   "metadata": {},
   "source": [
    "Q1. Write a Python function that takes in two arrays of data and calculates the F-value for a variance ratio\n",
    "test. The function should return the F-value and the corresponding p-value for the test."
   ]
  },
  {
   "cell_type": "code",
   "execution_count": 11,
   "id": "67b2a180-43e6-4ab3-baae-86c3f94cd328",
   "metadata": {},
   "outputs": [
    {
     "name": "stdout",
     "output_type": "stream",
     "text": [
      "F-Value 30.857142857142858\n",
      "P-Value 0.00024243082443224824\n"
     ]
    }
   ],
   "source": [
    "# Using the OneWay of ANOVA Test\n",
    "import numpy as np\n",
    "from scipy.stats import f_oneway \n",
    "\n",
    "def calculate_f_function(data1,data2):\n",
    "    # Perform the F-Test For a Variance\n",
    "    f_Statistics , p_value = f_oneway(data1,data2)\n",
    "    \n",
    "    return f_Statistics , p_value  # Return the Function otherwise We Can't Able to Print the Result \n",
    "    \n",
    "# Let us Assuming the Data :\n",
    "data1 = np.array([1,2,3,4,5,6])\n",
    "data2 = np.array([7,8,9,10,11,12])\n",
    "\n",
    "f_value,p_value = calculate_f_function(data1,data2)\n",
    "\n",
    "# Show the Result \n",
    "print(\"F-Value\",f_value)\n",
    "print(\"P-Value\",p_value)"
   ]
  },
  {
   "cell_type": "markdown",
   "id": "1c3a91d1-7fd9-4de3-afe4-43b4e1ab2113",
   "metadata": {},
   "source": [
    "Q2. Given a significance level of 0.05 and the degrees of freedom for the numerator and denominator of an\n",
    "F-distribution, write a Python function that returns the critical F-value for a two-tailed test."
   ]
  },
  {
   "cell_type": "code",
   "execution_count": 10,
   "id": "cddb4c2e-5b92-41c2-b69a-0423cf2b35ba",
   "metadata": {},
   "outputs": [
    {
     "name": "stdout",
     "output_type": "stream",
     "text": [
      "4.825621493405406\n"
     ]
    }
   ],
   "source": [
    "from scipy.stats import f\n",
    "\n",
    "def critical_f_value(alpha,dfn,dfd) :\n",
    "    # Calculate the Critical F-Value \n",
    "    critical_value = f.ppf(1-alpha/2 , dfn,dfd)\n",
    "    return critical_value \n",
    "\n",
    "# Let us taking the Example Scenario :\n",
    "alpha = 0.05 # Significance Level \n",
    "dfn = 3      # Degree of Freedom of Numerator\n",
    "dfd = 10     # Degree of Freedom of Denominator \n",
    "\n",
    "# Calculate the F-Critical\n",
    "critical_value = critical_f_value(alpha,dfn,dfd)\n",
    "# Show the Result :\n",
    "print(critical_value)"
   ]
  },
  {
   "cell_type": "markdown",
   "id": "f7abdca8-e8f1-4802-b8ef-c6f503186a6b",
   "metadata": {},
   "source": [
    "Q3. Write a Python program that generates random samples from two normal distributions with known\n",
    "variances and uses an F-test to determine if the variances are equal. The program should output the Fvalue, degrees of freedom, and p-value for the test."
   ]
  },
  {
   "cell_type": "code",
   "execution_count": 13,
   "id": "fda62e8b-99f3-4b91-87d5-9e2edb328f1d",
   "metadata": {},
   "outputs": [
    {
     "name": "stdout",
     "output_type": "stream",
     "text": [
      "F-Value : 1.8106547599078089\n",
      "Degree of FreeDom Numerator 29\n",
      "Degree of Freedom Denominator 29\n",
      "P_valye: 0.9422012426598071\n"
     ]
    }
   ],
   "source": [
    "import numpy as np\n",
    "from scipy.stats import f\n",
    "\n",
    "# Create the Function \n",
    "def f_test_for_variance(sample1,sample2,var1,var2):\n",
    "    \n",
    "    n1 = len(sample1)\n",
    "    n2 = len(sample2)\n",
    "    \n",
    "    # Calculate the Sample Variance\n",
    "    s1 = np.var(sample1,ddof=1)  # Sample Variance for Sample1\n",
    "    s2 = np.var(sample2,ddof=1)  # Sample Variance for Sample2\n",
    "    \n",
    "    # Degree of Freedom\n",
    "    dfn = n1-1\n",
    "    dfd = n2-1\n",
    "    \n",
    "    # Compute the F-Value\n",
    "    F_value = s1/s2 if var1 >= var2 else s2/s1\n",
    "    \n",
    "    # Calculate the P-value\n",
    "    p_value = f.cdf(F_value,dfn,dfd)\n",
    "    \n",
    "    return F_value , dfn,dfd , p_value\n",
    "\n",
    "# Example Scenario :\n",
    "if __name__ == \"__main__\":\n",
    "    # Parameter\n",
    "    np.random.seed(0) # For Reproducibility\n",
    "    var1 = 5.0\n",
    "    var2 = 4.0\n",
    "    n1 = 30\n",
    "    n2 = 30\n",
    "    \n",
    "   # Generate the Random Samples for Two Normal Distribution\n",
    "    sample1 = np.random.normal(loc=0,scale=np.sqrt(var1),size=n1)\n",
    "    sample2 = np.random.normal(loc=0,scale=np.sqrt(var2),size=n2)\n",
    "    \n",
    "    # Perfrom the F-Test \n",
    "    F_value , dfn,dfd,p_value = f_test_for_variance(sample1,sample2,var1,var2)\n",
    "    \n",
    "    # print the Result:\n",
    "    print(\"F-Value :\",F_value)\n",
    "    print(\"Degree of FreeDom Numerator\" , dfn)\n",
    "    print(\"Degree of Freedom Denominator\",dfd)\n",
    "    print(\"P_valye:\",p_value)"
   ]
  },
  {
   "cell_type": "markdown",
   "id": "ecbf2ca9-c0e5-4dd0-a384-36e218a07914",
   "metadata": {},
   "source": [
    "Q4.The variances of two populations are known to be 10 and 15. A sample of 12 observations is taken from\n",
    "each population. Conduct an F-test at the 5% significance level to determine if the variances are\n",
    "significantly different."
   ]
  },
  {
   "cell_type": "code",
   "execution_count": 16,
   "id": "02d3353a-8cc9-40fb-811b-be9f199a493f",
   "metadata": {},
   "outputs": [
    {
     "name": "stdout",
     "output_type": "stream",
     "text": [
      "F-Value : 0.6666666666666666\n",
      "F-Critical_value: 3.473699051085809\n",
      "P-Value: 0.2561948993678998\n",
      "Failed to Reject the Null Hypothesis:Variance are not Significantly different\n"
     ]
    }
   ],
   "source": [
    "import numpy as np \n",
    "from scipy.stats import f\n",
    "\n",
    "# Given Data :\n",
    "variance1 = 10 # Vaiance of population 1\n",
    "variance2 = 15 # Variance of population 2\n",
    "n1 = 12 # Sample Size for Population 1\n",
    "n2 = 12 # Sample Size for population 2\n",
    "alpha = 0.05 # Significance Level \n",
    "\n",
    "\n",
    "# Calculate the Sample Varainace \n",
    "s1_squared = variance1\n",
    "s2_squared = variance2\n",
    "\n",
    "# Degree of Freedom\n",
    "dfn = n1-1 \n",
    "dfd = n2-1\n",
    "\n",
    "# Compute the F-value\n",
    "F_value =  s1_squared / s2_squared \n",
    "\n",
    "# Calculate the F-Critical Value\n",
    "F_critical_value = f.ppf(1-alpha / 2 ,dfn,dfd)\n",
    "\n",
    "# Calculate the P-Value\n",
    "p_value = f.cdf(F_value , dfn,dfd)\n",
    "\n",
    "# show the Result\n",
    "print(\"F-Value :\" , F_value)\n",
    "print(\"F-Critical_value:\",F_critical_value)\n",
    "print(\"P-Value:\",p_value)\n",
    "\n",
    "# Compare with F Critcal Value\n",
    "if F_value > F_critical_value :\n",
    "    print(\"Reject the Null Hypothesis H0 : Variance are significantly different\")\n",
    "else :\n",
    "    print(\"Failed to Reject the Null Hypothesis:Variance are not Significantly different\")\n"
   ]
  },
  {
   "cell_type": "markdown",
   "id": "f86a050f-237b-4bab-a262-6874ab85bbaf",
   "metadata": {},
   "source": [
    "Q5. A manufacturer claims that the variance of the diameter of a certain product is 0.005. A sample of 25\n",
    "products is taken, and the sample variance is found to be 0.006. Conduct an F-test at the 1% significance\n",
    "level to determine if the claim is justified."
   ]
  },
  {
   "cell_type": "code",
   "execution_count": 6,
   "id": "c714642d-f230-4580-8a53-ebf46636adbb",
   "metadata": {},
   "outputs": [
    {
     "name": "stdout",
     "output_type": "stream",
     "text": [
      "F-Value :1.2000\n",
      "F_Critcial_lower: 0.3371\n",
      "F_Critical_upper:0.3371\n",
      "Failed To Reject the Null Hypothesis : The Claimed Varinace is Justified \n"
     ]
    }
   ],
   "source": [
    "import scipy.stats as stats\n",
    "\n",
    "# Given Data :\n",
    "claimed_variance = 0.005\n",
    "sample_variance = 0.006\n",
    "sample_size = 25\n",
    "significance_level = 0.01 \n",
    "\n",
    "# Degree of Freedom \n",
    "dfn = sample_size - 1  # Degree of Freedom Numerator\n",
    "dfd = sample_size -1 # Degree of Freedom Denominator \n",
    "\n",
    "# Calculate the F-Statistics \n",
    "F = sample_variance / claimed_variance \n",
    "\n",
    "# Critical Value From the F-Statistics \n",
    "F_critical_lower = stats.f.ppf(significance_level / 2 ,dfn,dfd)\n",
    "F_critical_upper =  stats.f.ppf(1-significance_level/2,dfn,dfd)\n",
    "\n",
    "# Show the Result :\n",
    "print(f\"F-Value :{F:.4f}\")\n",
    "print(f\"F_Critcial_lower: {F_critical_lower:.4f}\")\n",
    "print(f\"F_Critical_upper:{F_critical_lower:.4f}\")\n",
    "\n",
    "# Conduct the Hypothesis Test :\n",
    "if F < F_critical_lower or F > F_critical_upper :\n",
    "    print(\"Reject the Null Hypotheis : The Claimed Variance is Not Justified\")\n",
    "else :\n",
    "    print(\"Failed To Reject the Null Hypothesis : The Claimed Varinace is Justified \")"
   ]
  },
  {
   "cell_type": "markdown",
   "id": "fa56357a-139b-4816-bc11-01f11ffc231d",
   "metadata": {},
   "source": [
    "Q6. Write a Python function that takes in the degrees of freedom for the numerator and denominator of an\n",
    "F-distribution and calculates the mean and variance of the distribution. The function should return the\n",
    "mean and variance as a tuple."
   ]
  },
  {
   "cell_type": "code",
   "execution_count": 14,
   "id": "3003b229-bf3c-4a9f-a718-148ddb2d8bc3",
   "metadata": {},
   "outputs": [
    {
     "name": "stdout",
     "output_type": "stream",
     "text": [
      "F-Distribution Mean:1.25\n",
      "F-Distribution Variance :99840.0\n"
     ]
    }
   ],
   "source": [
    "def calculate_f_distribution_mean_median(dfn,dfd):\n",
    "    if dfd <= 0 :\n",
    "        raise ValueError(\"The Degree of Freedom of Denominator Should Be Greater than Zero\")\n",
    "    if dfn <= 0 :\n",
    "        raise ValueError(\"Degree of Freedom of Denominator Should Be Greater than Zero\")\n",
    "    # Calculate the Mean \n",
    "    mean = dfd / ( dfd - 2 ) if dfd > 2 else None\n",
    "    \n",
    "    # Calculate the Variance \n",
    "    if dfd > 4 :\n",
    "        variance = (2 * (dfd + dfn - 2 )*dfd)/dfn * (dfn * (dfd -2)**2*(dfd - 4))\n",
    "    else :\n",
    "        variance = None \n",
    "    \n",
    "    return mean , variance   \n",
    "                                                 \n",
    "# Example Usage :\n",
    "dfn = 5\n",
    "dfd = 10\n",
    "mean , variance = calculate_f_distribution_mean_median(dfn,dfd)   \n",
    "print(f\"F-Distribution Mean:{mean}\")\n",
    "print(f\"F-Distribution Variance :{variance}\")                                                 "
   ]
  },
  {
   "cell_type": "markdown",
   "id": "f603d8d7-f66f-4b77-ab36-792f16c68059",
   "metadata": {},
   "source": [
    "Q7. A random sample of 10 measurements is taken from a normal population with unknown variance. The\n",
    "sample variance is found to be 25. Another random sample of 15 measurements is taken from another\n",
    "normal population with unknown variance, and the sample variance is found to be 20. Conduct an F-test\n",
    "at the 10% significance level to determine if the variances are significantly different."
   ]
  },
  {
   "cell_type": "code",
   "execution_count": 5,
   "id": "4ae67b5d-4f81-4c9f-a471-306759cb5028",
   "metadata": {},
   "outputs": [
    {
     "name": "stdout",
     "output_type": "stream",
     "text": [
      "F-Statistics :1.2500\n",
      "F_Critical:2.6458\n",
      "Failed To Reject the Null Hypothesis:Variance are not Significantly Different\n"
     ]
    }
   ],
   "source": [
    "from scipy.stats import f\n",
    "import numpy as np\n",
    "def f_test(sample_variance1,sample_variance2 , n1 , n2 , alpha = 0.10) :\n",
    "    \n",
    "    # Calculate the F-Statistics \n",
    "    F = sample_variance1 / sample_variance2\n",
    "    \n",
    "    # Degree of Freedom \n",
    "    df1 = n1 - 1\n",
    "    df2 = n2 -1 \n",
    "    \n",
    "    # Calculate the F-Critical Value from the F-Distribution\n",
    "    F_critical = f.ppf(1-alpha /2 ,df1,df2) # For the Two-Tailed Test\n",
    "    \n",
    "    # Determine Whether to reject the Null Hypothesis \n",
    "    reject_null =  F > F_critical \n",
    "    \n",
    "    return reject_null , F , F_critical\n",
    "\n",
    "# Let us taking the Examples :\n",
    "sample_variance1 = 25\n",
    "sample_variance2 = 20 \n",
    "n1 = 10\n",
    "n2 = 15\n",
    "\n",
    "reject_null , F_Statistics , F_critical = f_test(sample_variance1 , sample_variance2,n1,n2)\n",
    "\n",
    "# Show the Result \n",
    "print(f\"F-Statistics :{F_Statistics:.4f}\")\n",
    "print(f\"F_Critical:{F_critical:.4f}\")\n",
    "\n",
    "if reject_null :\n",
    "    print(\"Reject the Null Hypothesis :Variance Are Significantly Different\")\n",
    "else :\n",
    "    print(\"Failed To Reject the Null Hypothesis:Variance are not Significantly Different\")\n"
   ]
  },
  {
   "cell_type": "markdown",
   "id": "129960fa-8f18-4215-a4b6-081fe2cc16a6",
   "metadata": {},
   "source": [
    "Q8. The following data represent the waiting times in minutes at two different restaurants on a Saturday\n",
    "night: Restaurant A: 24, 25, 28, 23, 22, 20, 27; Restaurant B: 31, 33, 35, 30, 32, 36. Conduct an F-test at the 5%\n",
    "significance level to determine if the variances are significantly different."
   ]
  },
  {
   "cell_type": "code",
   "execution_count": 1,
   "id": "df4eafc6-a5d3-411f-be15-992ffc7a57bc",
   "metadata": {},
   "outputs": [
    {
     "name": "stdout",
     "output_type": "stream",
     "text": [
      "F-Statistics :1.4552\n",
      "F-Critical values from the F-Distribution for alpha=0.05:0.167013 , 6.9777\n",
      "Failed to Reject the Null Hypothesis : Variance are not siginificantly different \n"
     ]
    }
   ],
   "source": [
    "import numpy as np\n",
    "from scipy.stats import f \n",
    "\n",
    "# Data for Restaurant A and Restaurant B\n",
    "data_A = np.array([24, 25, 28, 23, 22, 20, 27])\n",
    "data_B = np.array([31, 33, 35, 30, 32, 36])\n",
    "\n",
    "# Sample Size \n",
    "n_A = len(data_A)\n",
    "n_B = len(data_B)\n",
    "\n",
    "# Calculate the Sample Variance :\n",
    "variance_A = np.var(data_A , ddof=1) # ddof=1 For unbaised Estimation\n",
    "variance_B = np.var(data_B,ddof=1)\n",
    "\n",
    "# Calculate the F-Statistics\n",
    "F = variance_A / variance_B\n",
    "\n",
    "# Calculate the Degree of Freedom\n",
    "df1 = n_A - 1\n",
    "df2 = n_B - 1\n",
    "\n",
    "# Calculate the Critical Value from the F-Distribution\n",
    "alpha = 0.05\n",
    "F_critical_lower = f.ppf(alpha /2 ,df1,df2)  # lower Critical Value for the Two-Tailed Test\n",
    "F_critical_upper = f.ppf(1-alpha /2 , df1 ,df2) # Upper Critical Value for the Two-Tailed Test\n",
    "\n",
    "# Print the Result :\n",
    "print(f\"F-Statistics :{F:.4f}\")\n",
    "print(f\"F-Critical values from the F-Distribution for alpha={alpha}:{F_critical_lower:4f} , {F_critical_upper:.4f}\")\n",
    "\n",
    "# Compare the F-Statistics with F-Critical \n",
    "if F < F_critical_lower or F > F_critical_upper :\n",
    "    print(\"Reject the Null Hypothesis: Variance are significantly Different\")\n",
    "else :\n",
    "    print(\"Failed to Reject the Null Hypothesis : Variance are not siginificantly different \")"
   ]
  },
  {
   "cell_type": "markdown",
   "id": "d776cc46-f157-46fc-9edf-0701268167bc",
   "metadata": {},
   "source": [
    "Q9. The following data represent the test scores of two groups of students: Group A: 80, 85, 90, 92, 87, 83;\n",
    "Group B: 75, 78, 82, 79, 81, 84. Conduct an F-test at the 1% significance level to determine if the variances\n",
    "are significantly different."
   ]
  },
  {
   "cell_type": "code",
   "execution_count": 3,
   "id": "4fa38c66-276d-4cfc-943b-e9cde307df98",
   "metadata": {},
   "outputs": [
    {
     "name": "stdout",
     "output_type": "stream",
     "text": [
      "F-Statistics :1.944\n",
      "F-Critical value from the F-Distribution for alpha = 0.01 , 0.067 , 14.939605459912224\n",
      "Failed to Reject the Null Hypothesis : There is no Evidence to show that there is a Significance Difference between their Variance\n"
     ]
    }
   ],
   "source": [
    "import numpy as np\n",
    "from scipy.stats import f \n",
    "\n",
    "# Given Students Data :\n",
    "data_A = np.array([80, 85, 90, 92, 87, 83]) \n",
    "data_B = np.array([75, 78, 82, 79, 81, 84])\n",
    "\n",
    "# Sample Size \n",
    "A = len(data_A)\n",
    "B = len(data_B)\n",
    "\n",
    "# Calculate the Sample Variance of Both Data\n",
    "variance_A = np.var(data_A)\n",
    "variance_B = np.var(data_B)\n",
    "\n",
    "# calculate the F-Statistics :\n",
    "F = variance_A / variance_B \n",
    "\n",
    "# Calculate the Degree of Freedom for F-Critical Value :\n",
    "df1 = A-1\n",
    "df2 = B-1\n",
    "\n",
    "# Calculate the F-Critical for the F-Distribution :\n",
    "alpha = 0.01 # for 1% of Significance\n",
    "F_critical_lower = f.ppf(alpha / 2 , df1 , df2) # Lower Critical Value for Two-Tail Test\n",
    "F_critical_upper = f.ppf(1-alpha / 2 ,df1 ,df2) # upper Critical Value for the Two-Tail Test\n",
    "\n",
    "# Show the Result :\n",
    "print(f\"F-Statistics :{F:.3f}\")\n",
    "print(f\"F-Critical value from the F-Distribution for alpha = {alpha} , {F_critical_lower:.3f} , {F_critical_upper}\")\n",
    "\n",
    "# Compare the F-Statistics with the F-Critical Value :\n",
    "if F < F_critical_lower or F > F_critical_upper :\n",
    "    print(\"Reject the Null Hypothesis : There is Significance Differnce of Variance Between them\")\n",
    "else :\n",
    "    print(\"Failed to Reject the Null Hypothesis : There is no Evidence to show that there is a Significance Difference between their Variance\")"
   ]
  },
  {
   "cell_type": "code",
   "execution_count": null,
   "id": "a12b5fac-5ef2-4980-b829-49099ef37fbb",
   "metadata": {},
   "outputs": [],
   "source": []
  }
 ],
 "metadata": {
  "kernelspec": {
   "display_name": "Python 3 (ipykernel)",
   "language": "python",
   "name": "python3"
  },
  "language_info": {
   "codemirror_mode": {
    "name": "ipython",
    "version": 3
   },
   "file_extension": ".py",
   "mimetype": "text/x-python",
   "name": "python",
   "nbconvert_exporter": "python",
   "pygments_lexer": "ipython3",
   "version": "3.10.8"
  }
 },
 "nbformat": 4,
 "nbformat_minor": 5
}
